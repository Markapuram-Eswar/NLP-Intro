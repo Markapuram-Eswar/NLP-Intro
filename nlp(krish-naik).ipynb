{
 "cells": [
  {
   "cell_type": "code",
   "execution_count": null,
   "id": "97b273f7",
   "metadata": {},
   "outputs": [],
   "source": [
    "commit"
   ]
  },
  {
   "cell_type": "code",
   "execution_count": null,
   "id": "553bdd0f",
   "metadata": {},
   "outputs": [],
   "source": [
    "corpus = \"\"\"Hello everyone. let's learn NLP! let's start with the basics. \n",
    "I am running, jumping, and swimming in the beautiful garden. \n",
    "The cats are playing, dogs are barking, and birds are flying high above.\n",
    "I love reading books, writing stories, and learning new things every day.\n",
    "The students are studying, teachers are teaching, and parents are working hard.\n",
    "Beautiful flowers are blooming, trees are growing, and rivers are flowing peacefully.\n",
    "I enjoy walking, running, cycling, and hiking in the mountains.\n",
    "The children are playing, laughing, and having fun at the playground.\n",
    "I have been working, studying, and improving my skills continuously.\n",
    "The weather is changing, seasons are shifting, and nature is evolving.\n",
    "I love cooking, baking, and preparing delicious meals for my family.\n",
    "The artists are painting, musicians are playing, and dancers are performing gracefully.\n",
    "I enjoy traveling, exploring, and discovering new places around the world.\n",
    "The scientists are researching, experimenting, and discovering amazing things.\n",
    "I love gardening, planting, and watching my plants growing beautifully.\"\"\""
   ]
  },
  {
   "cell_type": "code",
   "execution_count": 2,
   "id": "b646b6c7",
   "metadata": {},
   "outputs": [],
   "source": [
    "from nltk.tokenize import sent_tokenize\n"
   ]
  },
  {
   "cell_type": "code",
   "execution_count": 3,
   "id": "439a02af",
   "metadata": {},
   "outputs": [
    {
     "data": {
      "text/plain": [
       "['Hello everyone.', \"let's learn NLP!\", \"let's start with the basics\"]"
      ]
     },
     "execution_count": 3,
     "metadata": {},
     "output_type": "execute_result"
    }
   ],
   "source": [
    "sent_tokenize(corpus)"
   ]
  },
  {
   "cell_type": "code",
   "execution_count": 4,
   "id": "2d6e61c1",
   "metadata": {},
   "outputs": [],
   "source": [
    "from nltk.tokenize import word_tokenize"
   ]
  },
  {
   "cell_type": "code",
   "execution_count": 5,
   "id": "3cdfd71d",
   "metadata": {},
   "outputs": [
    {
     "data": {
      "text/plain": [
       "['Hello',\n",
       " 'everyone',\n",
       " '.',\n",
       " 'let',\n",
       " \"'s\",\n",
       " 'learn',\n",
       " 'NLP',\n",
       " '!',\n",
       " 'let',\n",
       " \"'s\",\n",
       " 'start',\n",
       " 'with',\n",
       " 'the',\n",
       " 'basics']"
      ]
     },
     "execution_count": 5,
     "metadata": {},
     "output_type": "execute_result"
    }
   ],
   "source": [
    "word_tokenize(corpus)"
   ]
  },
  {
   "cell_type": "code",
   "execution_count": 6,
   "id": "232a6c39",
   "metadata": {},
   "outputs": [],
   "source": [
    "from nltk.tokenize import TreebankWordTokenizer"
   ]
  },
  {
   "cell_type": "code",
   "execution_count": 9,
   "id": "78f6e8a5",
   "metadata": {},
   "outputs": [
    {
     "data": {
      "text/plain": [
       "['Hello',\n",
       " 'everyone.',\n",
       " 'let',\n",
       " \"'s\",\n",
       " 'learn',\n",
       " 'NLP',\n",
       " '!',\n",
       " 'let',\n",
       " \"'s\",\n",
       " 'start',\n",
       " 'with',\n",
       " 'the',\n",
       " 'basics']"
      ]
     },
     "execution_count": 9,
     "metadata": {},
     "output_type": "execute_result"
    }
   ],
   "source": [
    "tokenizer = TreebankWordTokenizer()\n",
    "tokenizer.tokenize(corpus)\n"
   ]
  },
  {
   "cell_type": "code",
   "execution_count": 8,
   "id": "9c6f9af6",
   "metadata": {},
   "outputs": [
    {
     "data": {
      "text/plain": [
       "['Hello',\n",
       " 'everyone',\n",
       " 'let',\n",
       " 's',\n",
       " 'learn',\n",
       " 'NLP',\n",
       " 'let',\n",
       " 's',\n",
       " 'start',\n",
       " 'with',\n",
       " 'the',\n",
       " 'basics']"
      ]
     },
     "execution_count": 8,
     "metadata": {},
     "output_type": "execute_result"
    }
   ],
   "source": [
    "from nltk.tokenize import RegexpTokenizer\n",
    "tokenizer = RegexpTokenizer(r'\\w+')\n",
    "tokenizer.tokenize(corpus)\n"
   ]
  },
  {
   "cell_type": "code",
   "execution_count": 10,
   "id": "3227c474",
   "metadata": {},
   "outputs": [
    {
     "data": {
      "text/plain": [
       "['Hello',\n",
       " 'everyone',\n",
       " '.',\n",
       " 'let',\n",
       " \"'\",\n",
       " 's',\n",
       " 'learn',\n",
       " 'NLP',\n",
       " '!',\n",
       " 'let',\n",
       " \"'\",\n",
       " 's',\n",
       " 'start',\n",
       " 'with',\n",
       " 'the',\n",
       " 'basics']"
      ]
     },
     "execution_count": 10,
     "metadata": {},
     "output_type": "execute_result"
    }
   ],
   "source": [
    "from nltk.tokenize import WordPunctTokenizer\n",
    "tokenizer = WordPunctTokenizer()\n",
    "tokenizer.tokenize(corpus)\n",
    "    "
   ]
  },
  {
   "cell_type": "code",
   "execution_count": 11,
   "id": "90dcabe5",
   "metadata": {},
   "outputs": [
    {
     "data": {
      "text/plain": [
       "['Hello',\n",
       " 'everyone',\n",
       " '.',\n",
       " \"let's\",\n",
       " 'learn',\n",
       " 'NLP',\n",
       " '!',\n",
       " \"let's\",\n",
       " 'start',\n",
       " 'with',\n",
       " 'the',\n",
       " 'basics']"
      ]
     },
     "execution_count": 11,
     "metadata": {},
     "output_type": "execute_result"
    }
   ],
   "source": [
    "from nltk.tokenize import TweetTokenizer\n",
    "tokenizer = TweetTokenizer()\n",
    "tokenizer.tokenize(corpus)\n"
   ]
  },
  {
   "cell_type": "code",
   "execution_count": 12,
   "id": "10f98787",
   "metadata": {},
   "outputs": [
    {
     "data": {
      "text/plain": [
       "['Hello everyone.', \"let's learn NLP!\", \"let's start with the basics\"]"
      ]
     },
     "execution_count": 12,
     "metadata": {},
     "output_type": "execute_result"
    }
   ],
   "source": [
    "from nltk.tokenize import PunktTokenizer\n",
    "tokenizer = PunktTokenizer()\n",
    "tokenizer.tokenize(corpus)\n"
   ]
  },
  {
   "cell_type": "code",
   "execution_count": 13,
   "id": "ff8f820c",
   "metadata": {},
   "outputs": [
    {
     "data": {
      "text/plain": [
       "['Hello',\n",
       " 'everyone.',\n",
       " \"let's\",\n",
       " 'learn',\n",
       " 'NLP!',\n",
       " \"let's\",\n",
       " 'start',\n",
       " 'with',\n",
       " 'the',\n",
       " 'basics']"
      ]
     },
     "execution_count": 13,
     "metadata": {},
     "output_type": "execute_result"
    }
   ],
   "source": [
    "from nltk.tokenize import WhitespaceTokenizer\n",
    "tokenizer = WhitespaceTokenizer()\n",
    "tokenizer.tokenize(corpus)\n"
   ]
  },
  {
   "cell_type": "code",
   "execution_count": 15,
   "id": "0890eb76",
   "metadata": {},
   "outputs": [
    {
     "data": {
      "text/plain": [
       "['Hello',\n",
       " 'everyone',\n",
       " '.',\n",
       " 'let',\n",
       " \"'\",\n",
       " 's',\n",
       " 'learn',\n",
       " 'NLP',\n",
       " '!',\n",
       " 'let',\n",
       " \"'\",\n",
       " 's',\n",
       " 'start',\n",
       " 'with',\n",
       " 'the',\n",
       " 'basics']"
      ]
     },
     "execution_count": 15,
     "metadata": {},
     "output_type": "execute_result"
    }
   ],
   "source": [
    "from nltk.tokenize import WordPunctTokenizer\n",
    "tokenizer = WordPunctTokenizer()\n",
    "tokenizer.tokenize(corpus)"
   ]
  },
  {
   "cell_type": "code",
   "execution_count": 1,
   "id": "9fc7368e",
   "metadata": {},
   "outputs": [
    {
     "name": "stdout",
     "output_type": "stream",
     "text": [
      "Total words in the list: 99\n",
      "First 20 words: ['apples', 'running', 'jumping', 'swimming', 'playing', 'barking', 'flying', 'reading', 'writing', 'learning', 'studying', 'teaching', 'working', 'blooming', 'growing', 'flowing', 'walking', 'cycling', 'hiking', 'laughing']\n"
     ]
    }
   ],
   "source": [
    "# List of words for stemming demonstration\n",
    "words = [\n",
    "    \"apples\", \"running\", \"jumping\", \"swimming\", \"playing\", \"barking\", \"flying\",\n",
    "    \"reading\", \"writing\", \"learning\", \"studying\", \"teaching\", \"working\", \n",
    "    \"blooming\", \"growing\", \"flowing\", \"walking\", \"cycling\", \"hiking\",\n",
    "    \"laughing\", \"changing\", \"shifting\", \"evolving\", \"cooking\", \"baking\",\n",
    "    \"preparing\", \"painting\", \"performing\", \"traveling\", \"exploring\", \n",
    "    \"discovering\", \"researching\", \"experimenting\", \"gardening\", \"planting\",\n",
    "    \"watching\", \"improved\", \"changed\", \"shifted\", \"evolved\", \"cats\", \"dogs\",\n",
    "    \"birds\", \"flowers\", \"trees\", \"rivers\", \"children\", \"seasons\", \"artists\",\n",
    "    \"musicians\", \"dancers\", \"scientists\", \"plants\", \"teachers\", \"parents\",\n",
    "    \"beautifully\", \"peacefully\", \"gracefully\", \"continuously\", \"quickly\",\n",
    "    \"slowly\", \"carefully\", \"happily\", \"sadly\", \"angrily\", \"quietly\",\n",
    "    \"loudly\", \"brightly\", \"darkly\", \"clearly\", \"vaguely\", \"easily\",\n",
    "    \"difficultly\", \"simply\", \"complexly\", \"naturally\", \"artificially\",\n",
    "    \"automatically\", \"manually\", \"digitally\", \"physically\", \"mentally\",\n",
    "    \"emotionally\", \"spiritually\", \"financially\", \"economically\", \"politically\",\n",
    "    \"socially\", \"culturally\", \"historically\", \"geographically\", \"scientifically\",\n",
    "    \"technologically\", \"mathematically\", \"statistically\", \"psychologically\",\n",
    "    \"philosophically\", \"theoretically\", \"practically\"\n",
    "]\n",
    "\n",
    "print(f\"Total words in the list: {len(words)}\")\n",
    "print(\"First 20 words:\", words[:20])\n"
   ]
  },
  {
   "cell_type": "code",
   "execution_count": 2,
   "id": "c802963a",
   "metadata": {},
   "outputs": [],
   "source": [
    "from nltk.stem import PorterStemmer\n"
   ]
  },
  {
   "cell_type": "code",
   "execution_count": null,
   "id": "1292d277",
   "metadata": {},
   "outputs": [],
   "source": [
    "port_stem = PorterStemmer()"
   ]
  },
  {
   "cell_type": "code",
   "execution_count": 5,
   "id": "74e7e724",
   "metadata": {},
   "outputs": [
    {
     "name": "stdout",
     "output_type": "stream",
     "text": [
      "run\n",
      "jump\n",
      "swim\n",
      "play\n",
      "bark\n",
      "fli\n"
     ]
    }
   ],
   "source": [
    "print(port_stem.stem(\"running\"))\n",
    "print(port_stem.stem(\"jumping\"))\n",
    "print(port_stem.stem(\"swimming\"))\n",
    "print(port_stem.stem(\"playing\"))\n",
    "print(port_stem.stem(\"barking\"))\n",
    "print(port_stem.stem(\"flying\"))\n"
   ]
  },
  {
   "cell_type": "code",
   "execution_count": 6,
   "id": "dc5f3994",
   "metadata": {},
   "outputs": [
    {
     "name": "stdout",
     "output_type": "stream",
     "text": [
      "run\n",
      "jump\n",
      "swim\n",
      "play\n",
      "bark\n",
      "fly\n"
     ]
    }
   ],
   "source": [
    "from nltk.stem import LancasterStemmer\n",
    "lanc_stem = LancasterStemmer()\n",
    "print(lanc_stem.stem(\"running\"))\n",
    "print(lanc_stem.stem(\"jumping\"))\n",
    "print(lanc_stem.stem(\"swimming\"))\n",
    "print(lanc_stem.stem(\"playing\"))\n",
    "print(lanc_stem.stem(\"barking\"))\n",
    "print(lanc_stem.stem(\"flying\"))"
   ]
  },
  {
   "cell_type": "code",
   "execution_count": 7,
   "id": "3006887f",
   "metadata": {},
   "outputs": [
    {
     "name": "stdout",
     "output_type": "stream",
     "text": [
      "run\n",
      "jump\n",
      "swim\n",
      "play\n",
      "bark\n"
     ]
    }
   ],
   "source": [
    "from nltk.stem import SnowballStemmer\n",
    "snow_stem = SnowballStemmer(language=\"english\")\n",
    "print(snow_stem.stem(\"running\"))\n",
    "print(snow_stem.stem(\"jumping\"))\n",
    "print(snow_stem.stem(\"swimming\"))\n",
    "print(snow_stem.stem(\"playing\"))\n",
    "print(snow_stem.stem(\"barking\"))"
   ]
  },
  {
   "cell_type": "code",
   "execution_count": 17,
   "id": "168e6318",
   "metadata": {},
   "outputs": [
    {
     "name": "stdout",
     "output_type": "stream",
     "text": [
      "runn\n",
      "jump\n",
      "swimm\n",
      "play\n",
      "ingiwg\n"
     ]
    }
   ],
   "source": [
    "from nltk.stem import RegexpStemmer\n",
    "stemmer = RegexpStemmer('ing$')\n",
    "print(stemmer.stem(\"running\"))\n",
    "print(stemmer.stem(\"jumping\"))\n",
    "print(stemmer.stem(\"swimming\"))\n",
    "print(stemmer.stem(\"playing\"))\n",
    "print(stemmer.stem(\"ingiwg\"))"
   ]
  },
  {
   "cell_type": "markdown",
   "id": "c0ac6288",
   "metadata": {},
   "source": [
    "## Word Lemmatizer"
   ]
  },
  {
   "cell_type": "markdown",
   "id": "8aec7a3c",
   "metadata": {},
   "source": [
    "### A word lemmatizer is a linguistic tool that reduces words to their base or root form (called a \"lemma\"). Unlike stemming, which simply chops off word endings, lemmatization uses vocabulary and morphological analysis to return the proper base form of a word."
   ]
  },
  {
   "cell_type": "code",
   "execution_count": 6,
   "id": "7cdaeeb2",
   "metadata": {},
   "outputs": [],
   "source": [
    "Words = [\"eating\",\"eats\",\"eats\",\"writing\",\"programming\",\"programs\",\"history\",\"Finally\",\"Finalized\"]"
   ]
  },
  {
   "cell_type": "code",
   "execution_count": null,
   "id": "cee3e3a0",
   "metadata": {},
   "outputs": [],
   "source": [
    "\n"
   ]
  },
  {
   "cell_type": "code",
   "execution_count": null,
   "id": "c8b30e61",
   "metadata": {},
   "outputs": [],
   "source": [
    "\n"
   ]
  },
  {
   "cell_type": "code",
   "execution_count": 11,
   "id": "83bc4cef",
   "metadata": {},
   "outputs": [
    {
     "name": "stdout",
     "output_type": "stream",
     "text": [
      "eating---------->eating\n",
      "eats---------->eats\n",
      "eats---------->eats\n",
      "writing---------->writing\n",
      "programming---------->programming\n",
      "programs---------->program\n",
      "history---------->history\n",
      "Finally---------->Finally\n",
      "Finalized---------->Finalized\n"
     ]
    }
   ],
   "source": [
    "for word in Words:\n",
    "    print(word+\"---------->\"+lemmatizer.lemmatize(word,pos='n'))"
   ]
  },
  {
   "cell_type": "code",
   "execution_count": 3,
   "id": "31fea29b",
   "metadata": {},
   "outputs": [],
   "source": [
    "corpus = \"\"\"Hello everyone. let's learn NLP! let's start with the basics. \n",
    "I am running, jumping, and swimming in the beautiful garden. \n",
    "The cats are playing, dogs are barking, and birds are flying high above.\n",
    "I love reading books, writing stories, and learning new things every day.\n",
    "The students are studying, teachers are teaching, and parents are working hard.\n",
    "Beautiful flowers are blooming, trees are growing, and rivers are flowing peacefully.\n",
    "I enjoy walking, running, cycling, and hiking in the mountains.\n",
    "The children are playing, laughing, and having fun at the playground.\n",
    "I have been working, studying, and improving my skills continuously.\n",
    "The weather is changing, seasons are shifting, and nature is evolving.\n",
    "I love cooking, baking, and preparing delicious meals for my family.\n",
    "The artists are painting, musicians are playing, and dancers are performing gracefully.\n",
    "I enjoy traveling, exploring, and discovering new places around the world.\n",
    "The scientists are researching, experimenting, and discovering amazing things.\n",
    "I love gardening, planting, and watching my plants growing beautifully.\"\"\""
   ]
  },
  {
   "cell_type": "code",
   "execution_count": 11,
   "id": "1afc6226",
   "metadata": {},
   "outputs": [],
   "source": [
    "from nltk.tokenize   import sent_tokenize"
   ]
  },
  {
   "cell_type": "code",
   "execution_count": 13,
   "id": "566ad1cf",
   "metadata": {},
   "outputs": [],
   "source": [
    "tokenizer = sent_tokenize(corpus)"
   ]
  },
  {
   "cell_type": "code",
   "execution_count": 14,
   "id": "9d31612a",
   "metadata": {},
   "outputs": [
    {
     "name": "stdout",
     "output_type": "stream",
     "text": [
      "['Hello everyone.', \"let's learn NLP!\", \"let's start with the basics.\", 'I am running, jumping, and swimming in the beautiful garden.', 'The cats are playing, dogs are barking, and birds are flying high above.', 'I love reading books, writing stories, and learning new things every day.', 'The students are studying, teachers are teaching, and parents are working hard.', 'Beautiful flowers are blooming, trees are growing, and rivers are flowing peacefully.', 'I enjoy walking, running, cycling, and hiking in the mountains.', 'The children are playing, laughing, and having fun at the playground.', 'I have been working, studying, and improving my skills continuously.', 'The weather is changing, seasons are shifting, and nature is evolving.', 'I love cooking, baking, and preparing delicious meals for my family.', 'The artists are painting, musicians are playing, and dancers are performing gracefully.', 'I enjoy traveling, exploring, and discovering new places around the world.', 'The scientists are researching, experimenting, and discovering amazing things.', 'I love gardening, planting, and watching my plants growing beautifully.']\n"
     ]
    }
   ],
   "source": [
    "print((tokenizer))"
   ]
  },
  {
   "cell_type": "code",
   "execution_count": 6,
   "id": "79812568",
   "metadata": {},
   "outputs": [
    {
     "name": "stderr",
     "output_type": "stream",
     "text": [
      "[nltk_data] Downloading package punkt to\n",
      "[nltk_data]     C:\\Users\\rcbes\\AppData\\Roaming\\nltk_data...\n",
      "[nltk_data]   Package punkt is already up-to-date!\n"
     ]
    }
   ],
   "source": [
    "import nltk\n",
    "import nltk.data\n",
    "\n",
    "# Download the punkt tokenizer data if not already downloaded\n",
    "nltk.download('punkt')\n",
    "\n",
    "# Method 1: Using nltk.data.load (your approach)\n",
    "tokenizer = nltk.data.load('tokenizers/punkt/PY3/english.pickle')\n",
    "\n",
    "# Your text\n",
    "text = \"Hello world. This is a sentence. Another sentence here!\"\n"
   ]
  },
  {
   "cell_type": "code",
   "execution_count": 12,
   "id": "3b8768e3",
   "metadata": {},
   "outputs": [
    {
     "name": "stdout",
     "output_type": "stream",
     "text": [
      "Sentence: Hello everyone.\n",
      "Sentence: let's learn NLP!\n",
      "Sentence: let's start with the basics.\n",
      "Sentence: I am running, jumping, and swimming in the beautiful garden.\n",
      "Sentence: The cats are playing, dogs are barking, and birds are flying high above.\n",
      "Sentence: I love reading books, writing stories, and learning new things every day.\n",
      "Sentence: The students are studying, teachers are teaching, and parents are working hard.\n",
      "Sentence: Beautiful flowers are blooming, trees are growing, and rivers are flowing peacefully.\n",
      "Sentence: I enjoy walking, running, cycling, and hiking in the mountains.\n",
      "Sentence: The children are playing, laughing, and having fun at the playground.\n",
      "Sentence: I have been working, studying, and improving my skills continuously.\n",
      "Sentence: The weather is changing, seasons are shifting, and nature is evolving.\n",
      "Sentence: I love cooking, baking, and preparing delicious meals for my family.\n",
      "Sentence: The artists are painting, musicians are playing, and dancers are performing gracefully.\n",
      "Sentence: I enjoy traveling, exploring, and discovering new places around the world.\n",
      "Sentence: The scientists are researching, experimenting, and discovering amazing things.\n",
      "Sentence: I love gardening, planting, and watching my plants growing beautifully.\n"
     ]
    }
   ],
   "source": [
    "# Tokenize the text\n",
    "sentences = tokenizer.tokenize(corpus)\n",
    "for i in sentences:\n",
    "    print(\"Sentence:\", i)\n"
   ]
  },
  {
   "cell_type": "code",
   "execution_count": 2,
   "id": "364184b4",
   "metadata": {},
   "outputs": [],
   "source": [
    "import nltk.data\n",
    "\n",
    "# This loads the pre-trained Punkt model\n",
    "tokenizer = nltk.data.load('tokenizers/punkt/PY3/english.pickle')"
   ]
  },
  {
   "cell_type": "code",
   "execution_count": 13,
   "id": "a2e86c99",
   "metadata": {},
   "outputs": [],
   "source": [
    "from nltk import TreebankWordTokenizer\n",
    "Tree_tokenizer = TreebankWordTokenizer()"
   ]
  },
  {
   "cell_type": "code",
   "execution_count": 14,
   "id": "624f1da9",
   "metadata": {},
   "outputs": [
    {
     "data": {
      "text/plain": [
       "['Hello',\n",
       " 'everyone.',\n",
       " 'let',\n",
       " \"'s\",\n",
       " 'learn',\n",
       " 'NLP',\n",
       " '!',\n",
       " 'let',\n",
       " \"'s\",\n",
       " 'start',\n",
       " 'with',\n",
       " 'the',\n",
       " 'basics.',\n",
       " 'I',\n",
       " 'am',\n",
       " 'running',\n",
       " ',',\n",
       " 'jumping',\n",
       " ',',\n",
       " 'and',\n",
       " 'swimming',\n",
       " 'in',\n",
       " 'the',\n",
       " 'beautiful',\n",
       " 'garden.',\n",
       " 'The',\n",
       " 'cats',\n",
       " 'are',\n",
       " 'playing',\n",
       " ',',\n",
       " 'dogs',\n",
       " 'are',\n",
       " 'barking',\n",
       " ',',\n",
       " 'and',\n",
       " 'birds',\n",
       " 'are',\n",
       " 'flying',\n",
       " 'high',\n",
       " 'above.',\n",
       " 'I',\n",
       " 'love',\n",
       " 'reading',\n",
       " 'books',\n",
       " ',',\n",
       " 'writing',\n",
       " 'stories',\n",
       " ',',\n",
       " 'and',\n",
       " 'learning',\n",
       " 'new',\n",
       " 'things',\n",
       " 'every',\n",
       " 'day.',\n",
       " 'The',\n",
       " 'students',\n",
       " 'are',\n",
       " 'studying',\n",
       " ',',\n",
       " 'teachers',\n",
       " 'are',\n",
       " 'teaching',\n",
       " ',',\n",
       " 'and',\n",
       " 'parents',\n",
       " 'are',\n",
       " 'working',\n",
       " 'hard.',\n",
       " 'Beautiful',\n",
       " 'flowers',\n",
       " 'are',\n",
       " 'blooming',\n",
       " ',',\n",
       " 'trees',\n",
       " 'are',\n",
       " 'growing',\n",
       " ',',\n",
       " 'and',\n",
       " 'rivers',\n",
       " 'are',\n",
       " 'flowing',\n",
       " 'peacefully.',\n",
       " 'I',\n",
       " 'enjoy',\n",
       " 'walking',\n",
       " ',',\n",
       " 'running',\n",
       " ',',\n",
       " 'cycling',\n",
       " ',',\n",
       " 'and',\n",
       " 'hiking',\n",
       " 'in',\n",
       " 'the',\n",
       " 'mountains.',\n",
       " 'The',\n",
       " 'children',\n",
       " 'are',\n",
       " 'playing',\n",
       " ',',\n",
       " 'laughing',\n",
       " ',',\n",
       " 'and',\n",
       " 'having',\n",
       " 'fun',\n",
       " 'at',\n",
       " 'the',\n",
       " 'playground.',\n",
       " 'I',\n",
       " 'have',\n",
       " 'been',\n",
       " 'working',\n",
       " ',',\n",
       " 'studying',\n",
       " ',',\n",
       " 'and',\n",
       " 'improving',\n",
       " 'my',\n",
       " 'skills',\n",
       " 'continuously.',\n",
       " 'The',\n",
       " 'weather',\n",
       " 'is',\n",
       " 'changing',\n",
       " ',',\n",
       " 'seasons',\n",
       " 'are',\n",
       " 'shifting',\n",
       " ',',\n",
       " 'and',\n",
       " 'nature',\n",
       " 'is',\n",
       " 'evolving.',\n",
       " 'I',\n",
       " 'love',\n",
       " 'cooking',\n",
       " ',',\n",
       " 'baking',\n",
       " ',',\n",
       " 'and',\n",
       " 'preparing',\n",
       " 'delicious',\n",
       " 'meals',\n",
       " 'for',\n",
       " 'my',\n",
       " 'family.',\n",
       " 'The',\n",
       " 'artists',\n",
       " 'are',\n",
       " 'painting',\n",
       " ',',\n",
       " 'musicians',\n",
       " 'are',\n",
       " 'playing',\n",
       " ',',\n",
       " 'and',\n",
       " 'dancers',\n",
       " 'are',\n",
       " 'performing',\n",
       " 'gracefully.',\n",
       " 'I',\n",
       " 'enjoy',\n",
       " 'traveling',\n",
       " ',',\n",
       " 'exploring',\n",
       " ',',\n",
       " 'and',\n",
       " 'discovering',\n",
       " 'new',\n",
       " 'places',\n",
       " 'around',\n",
       " 'the',\n",
       " 'world.',\n",
       " 'The',\n",
       " 'scientists',\n",
       " 'are',\n",
       " 'researching',\n",
       " ',',\n",
       " 'experimenting',\n",
       " ',',\n",
       " 'and',\n",
       " 'discovering',\n",
       " 'amazing',\n",
       " 'things.',\n",
       " 'I',\n",
       " 'love',\n",
       " 'gardening',\n",
       " ',',\n",
       " 'planting',\n",
       " ',',\n",
       " 'and',\n",
       " 'watching',\n",
       " 'my',\n",
       " 'plants',\n",
       " 'growing',\n",
       " 'beautifully',\n",
       " '.']"
      ]
     },
     "execution_count": 14,
     "metadata": {},
     "output_type": "execute_result"
    }
   ],
   "source": [
    "Tree_tokenizer.tokenize(corpus)"
   ]
  },
  {
   "cell_type": "code",
   "execution_count": 15,
   "id": "54bdac6e",
   "metadata": {},
   "outputs": [
    {
     "data": {
      "text/plain": [
       "['Hello',\n",
       " 'everyone',\n",
       " '.',\n",
       " 'let',\n",
       " \"'\",\n",
       " 's',\n",
       " 'learn',\n",
       " 'NLP',\n",
       " '!',\n",
       " 'let',\n",
       " \"'\",\n",
       " 's',\n",
       " 'start',\n",
       " 'with',\n",
       " 'the',\n",
       " 'basics',\n",
       " '.',\n",
       " 'I',\n",
       " 'am',\n",
       " 'running',\n",
       " ',',\n",
       " 'jumping',\n",
       " ',',\n",
       " 'and',\n",
       " 'swimming',\n",
       " 'in',\n",
       " 'the',\n",
       " 'beautiful',\n",
       " 'garden',\n",
       " '.',\n",
       " 'The',\n",
       " 'cats',\n",
       " 'are',\n",
       " 'playing',\n",
       " ',',\n",
       " 'dogs',\n",
       " 'are',\n",
       " 'barking',\n",
       " ',',\n",
       " 'and',\n",
       " 'birds',\n",
       " 'are',\n",
       " 'flying',\n",
       " 'high',\n",
       " 'above',\n",
       " '.',\n",
       " 'I',\n",
       " 'love',\n",
       " 'reading',\n",
       " 'books',\n",
       " ',',\n",
       " 'writing',\n",
       " 'stories',\n",
       " ',',\n",
       " 'and',\n",
       " 'learning',\n",
       " 'new',\n",
       " 'things',\n",
       " 'every',\n",
       " 'day',\n",
       " '.',\n",
       " 'The',\n",
       " 'students',\n",
       " 'are',\n",
       " 'studying',\n",
       " ',',\n",
       " 'teachers',\n",
       " 'are',\n",
       " 'teaching',\n",
       " ',',\n",
       " 'and',\n",
       " 'parents',\n",
       " 'are',\n",
       " 'working',\n",
       " 'hard',\n",
       " '.',\n",
       " 'Beautiful',\n",
       " 'flowers',\n",
       " 'are',\n",
       " 'blooming',\n",
       " ',',\n",
       " 'trees',\n",
       " 'are',\n",
       " 'growing',\n",
       " ',',\n",
       " 'and',\n",
       " 'rivers',\n",
       " 'are',\n",
       " 'flowing',\n",
       " 'peacefully',\n",
       " '.',\n",
       " 'I',\n",
       " 'enjoy',\n",
       " 'walking',\n",
       " ',',\n",
       " 'running',\n",
       " ',',\n",
       " 'cycling',\n",
       " ',',\n",
       " 'and',\n",
       " 'hiking',\n",
       " 'in',\n",
       " 'the',\n",
       " 'mountains',\n",
       " '.',\n",
       " 'The',\n",
       " 'children',\n",
       " 'are',\n",
       " 'playing',\n",
       " ',',\n",
       " 'laughing',\n",
       " ',',\n",
       " 'and',\n",
       " 'having',\n",
       " 'fun',\n",
       " 'at',\n",
       " 'the',\n",
       " 'playground',\n",
       " '.',\n",
       " 'I',\n",
       " 'have',\n",
       " 'been',\n",
       " 'working',\n",
       " ',',\n",
       " 'studying',\n",
       " ',',\n",
       " 'and',\n",
       " 'improving',\n",
       " 'my',\n",
       " 'skills',\n",
       " 'continuously',\n",
       " '.',\n",
       " 'The',\n",
       " 'weather',\n",
       " 'is',\n",
       " 'changing',\n",
       " ',',\n",
       " 'seasons',\n",
       " 'are',\n",
       " 'shifting',\n",
       " ',',\n",
       " 'and',\n",
       " 'nature',\n",
       " 'is',\n",
       " 'evolving',\n",
       " '.',\n",
       " 'I',\n",
       " 'love',\n",
       " 'cooking',\n",
       " ',',\n",
       " 'baking',\n",
       " ',',\n",
       " 'and',\n",
       " 'preparing',\n",
       " 'delicious',\n",
       " 'meals',\n",
       " 'for',\n",
       " 'my',\n",
       " 'family',\n",
       " '.',\n",
       " 'The',\n",
       " 'artists',\n",
       " 'are',\n",
       " 'painting',\n",
       " ',',\n",
       " 'musicians',\n",
       " 'are',\n",
       " 'playing',\n",
       " ',',\n",
       " 'and',\n",
       " 'dancers',\n",
       " 'are',\n",
       " 'performing',\n",
       " 'gracefully',\n",
       " '.',\n",
       " 'I',\n",
       " 'enjoy',\n",
       " 'traveling',\n",
       " ',',\n",
       " 'exploring',\n",
       " ',',\n",
       " 'and',\n",
       " 'discovering',\n",
       " 'new',\n",
       " 'places',\n",
       " 'around',\n",
       " 'the',\n",
       " 'world',\n",
       " '.',\n",
       " 'The',\n",
       " 'scientists',\n",
       " 'are',\n",
       " 'researching',\n",
       " ',',\n",
       " 'experimenting',\n",
       " ',',\n",
       " 'and',\n",
       " 'discovering',\n",
       " 'amazing',\n",
       " 'things',\n",
       " '.',\n",
       " 'I',\n",
       " 'love',\n",
       " 'gardening',\n",
       " ',',\n",
       " 'planting',\n",
       " ',',\n",
       " 'and',\n",
       " 'watching',\n",
       " 'my',\n",
       " 'plants',\n",
       " 'growing',\n",
       " 'beautifully',\n",
       " '.']"
      ]
     },
     "execution_count": 15,
     "metadata": {},
     "output_type": "execute_result"
    }
   ],
   "source": [
    "from nltk.tokenize import WordPunctTokenizer\n",
    "\n",
    "tokenizer = WordPunctTokenizer()\n",
    "tokenizer.tokenize(corpus)"
   ]
  },
  {
   "cell_type": "code",
   "execution_count": 8,
   "id": "0cb07b41",
   "metadata": {},
   "outputs": [
    {
     "name": "stdout",
     "output_type": "stream",
     "text": [
      "running\n",
      "jumping\n",
      "swimming\n",
      "playing\n",
      "barking\n"
     ]
    }
   ],
   "source": [
    "from nltk.stem import WordNetLemmatizer\n",
    "lemmatizer = WordNetLemmatizer()\n",
    "print(lemmatizer.lemmatize(\"running\"))\n",
    "print(lemmatizer.lemmatize(\"jumping\"))\n",
    "print(lemmatizer.lemmatize(\"swimming\"))\n",
    "print(lemmatizer.lemmatize(\"playing\"))\n",
    "print(lemmatizer.lemmatize(\"barking\"))"
   ]
  },
  {
   "cell_type": "markdown",
   "id": "a6b244bc",
   "metadata": {},
   "source": [
    "# Bag of Words (BoW) Implementation\n",
    "\n",
    "Bag of Words is a simple but effective text representation technique that converts text into numerical vectors. It creates a vocabulary from all unique words in the corpus and represents each document as a vector where each dimension corresponds to a word in the vocabulary.\n"
   ]
  },
  {
   "cell_type": "code",
   "execution_count": 18,
   "id": "4d0a1512",
   "metadata": {},
   "outputs": [],
   "source": [
    "# Import necessary libraries\n",
    "import numpy as np\n",
    "import pandas as pd\n",
    "from collections import Counter\n",
    "from sklearn.feature_extraction.text import CountVectorizer\n",
    "from sklearn.feature_extraction.text import TfidfVectorizer\n",
    "import matplotlib.pyplot as plt\n",
    "import seaborn as sns\n"
   ]
  },
  {
   "cell_type": "code",
   "execution_count": 19,
   "id": "cd8dcf5a",
   "metadata": {},
   "outputs": [
    {
     "name": "stdout",
     "output_type": "stream",
     "text": [
      "Sample Documents:\n",
      "1. I love machine learning and artificial intelligence\n",
      "2. Machine learning is fascinating and powerful\n",
      "3. I enjoy studying natural language processing\n",
      "4. Natural language processing helps computers understand text\n",
      "5. Artificial intelligence and machine learning are related fields\n",
      "6. I love working with text data and algorithms\n"
     ]
    }
   ],
   "source": [
    "# Prepare sample documents for Bag of Words demonstration\n",
    "documents = [\n",
    "    \"I love machine learning and artificial intelligence\",\n",
    "    \"Machine learning is fascinating and powerful\",\n",
    "    \"I enjoy studying natural language processing\",\n",
    "    \"Natural language processing helps computers understand text\",\n",
    "    \"Artificial intelligence and machine learning are related fields\",\n",
    "    \"I love working with text data and algorithms\"\n",
    "]\n",
    "\n",
    "print(\"Sample Documents:\")\n",
    "for i, doc in enumerate(documents, 1):\n",
    "    print(f\"{i}. {doc}\")\n"
   ]
  },
  {
   "cell_type": "code",
   "execution_count": 20,
   "id": "75fda040",
   "metadata": {},
   "outputs": [
    {
     "name": "stdout",
     "output_type": "stream",
     "text": [
      "Vocabulary (26 unique words):\n",
      "['algorithms', 'and', 'are', 'artificial', 'computers', 'data', 'enjoy', 'fascinating', 'fields', 'helps', 'i', 'intelligence', 'is', 'language', 'learning', 'love', 'machine', 'natural', 'powerful', 'processing', 'related', 'studying', 'text', 'understand', 'with', 'working']\n",
      "\n",
      "Bag of Words Vectors:\n",
      "Document 1: [0, 1, 0, 1, 0, 0, 0, 0, 0, 0, 1, 1, 0, 0, 1, 1, 1, 0, 0, 0, 0, 0, 0, 0, 0, 0]\n",
      "Document 2: [0, 1, 0, 0, 0, 0, 0, 1, 0, 0, 0, 0, 1, 0, 1, 0, 1, 0, 1, 0, 0, 0, 0, 0, 0, 0]\n",
      "Document 3: [0, 0, 0, 0, 0, 0, 1, 0, 0, 0, 1, 0, 0, 1, 0, 0, 0, 1, 0, 1, 0, 1, 0, 0, 0, 0]\n",
      "Document 4: [0, 0, 0, 0, 1, 0, 0, 0, 0, 1, 0, 0, 0, 1, 0, 0, 0, 1, 0, 1, 0, 0, 1, 1, 0, 0]\n",
      "Document 5: [0, 1, 1, 1, 0, 0, 0, 0, 1, 0, 0, 1, 0, 0, 1, 0, 1, 0, 0, 0, 1, 0, 0, 0, 0, 0]\n",
      "Document 6: [1, 1, 0, 0, 0, 1, 0, 0, 0, 0, 1, 0, 0, 0, 0, 1, 0, 0, 0, 0, 0, 0, 1, 0, 1, 1]\n"
     ]
    }
   ],
   "source": [
    "# Method 1: Manual Bag of Words Implementation\n",
    "def manual_bag_of_words(documents):\n",
    "    \"\"\"\n",
    "    Manual implementation of Bag of Words\n",
    "    \"\"\"\n",
    "    # Step 1: Tokenize and create vocabulary\n",
    "    all_words = []\n",
    "    for doc in documents:\n",
    "        words = doc.lower().split()\n",
    "        all_words.extend(words)\n",
    "    \n",
    "    # Remove punctuation and get unique words\n",
    "    vocabulary = list(set(all_words))\n",
    "    vocabulary.sort()  # Sort for consistent ordering\n",
    "    \n",
    "    print(f\"Vocabulary ({len(vocabulary)} unique words):\")\n",
    "    print(vocabulary)\n",
    "    print()\n",
    "    \n",
    "    # Step 2: Create Bag of Words vectors\n",
    "    bow_vectors = []\n",
    "    for doc in documents:\n",
    "        words = doc.lower().split()\n",
    "        word_count = Counter(words)\n",
    "        vector = [word_count.get(word, 0) for word in vocabulary]\n",
    "        bow_vectors.append(vector)\n",
    "    \n",
    "    return vocabulary, bow_vectors\n",
    "\n",
    "vocabulary, bow_vectors = manual_bag_of_words(documents)\n",
    "\n",
    "# Display the results\n",
    "print(\"Bag of Words Vectors:\")\n",
    "for i, vector in enumerate(bow_vectors, 1):\n",
    "    print(f\"Document {i}: {vector}\")\n"
   ]
  },
  {
   "cell_type": "code",
   "execution_count": 21,
   "id": "149a0f43",
   "metadata": {},
   "outputs": [
    {
     "name": "stdout",
     "output_type": "stream",
     "text": [
      "Bag of Words Matrix:\n",
      "       algorithms  and  are  artificial  computers  data  enjoy  fascinating  \\\n",
      "Doc 1           0    1    0           1          0     0      0            0   \n",
      "Doc 2           0    1    0           0          0     0      0            1   \n",
      "Doc 3           0    0    0           0          0     0      1            0   \n",
      "Doc 4           0    0    0           0          1     0      0            0   \n",
      "Doc 5           0    1    1           1          0     0      0            0   \n",
      "Doc 6           1    1    0           0          0     1      0            0   \n",
      "\n",
      "       fields  helps  ...  machine  natural  powerful  processing  related  \\\n",
      "Doc 1       0      0  ...        1        0         0           0        0   \n",
      "Doc 2       0      0  ...        1        0         1           0        0   \n",
      "Doc 3       0      0  ...        0        1         0           1        0   \n",
      "Doc 4       0      1  ...        0        1         0           1        0   \n",
      "Doc 5       1      0  ...        1        0         0           0        1   \n",
      "Doc 6       0      0  ...        0        0         0           0        0   \n",
      "\n",
      "       studying  text  understand  with  working  \n",
      "Doc 1         0     0           0     0        0  \n",
      "Doc 2         0     0           0     0        0  \n",
      "Doc 3         1     0           0     0        0  \n",
      "Doc 4         0     1           1     0        0  \n",
      "Doc 5         0     0           0     0        0  \n",
      "Doc 6         0     1           0     1        1  \n",
      "\n",
      "[6 rows x 26 columns]\n"
     ]
    }
   ],
   "source": [
    "# Create a DataFrame for better visualization\n",
    "bow_df = pd.DataFrame(bow_vectors, columns=vocabulary, index=[f\"Doc {i+1}\" for i in range(len(documents))])\n",
    "print(\"Bag of Words Matrix:\")\n",
    "print(bow_df)\n"
   ]
  },
  {
   "cell_type": "code",
   "execution_count": 22,
   "id": "d11874a5",
   "metadata": {},
   "outputs": [
    {
     "name": "stdout",
     "output_type": "stream",
     "text": [
      "============================================================\n",
      "Using Scikit-learn CountVectorizer\n",
      "============================================================\n",
      "Vocabulary (25 unique words):\n",
      "['algorithms' 'and' 'are' 'artificial' 'computers' 'data' 'enjoy'\n",
      " 'fascinating' 'fields' 'helps' 'intelligence' 'is' 'language' 'learning'\n",
      " 'love' 'machine' 'natural' 'powerful' 'processing' 'related' 'studying'\n",
      " 'text' 'understand' 'with' 'working']\n",
      "\n",
      "Scikit-learn Bag of Words Matrix:\n",
      "       algorithms  and  are  artificial  computers  data  enjoy  fascinating  \\\n",
      "Doc 1           0    1    0           1          0     0      0            0   \n",
      "Doc 2           0    1    0           0          0     0      0            1   \n",
      "Doc 3           0    0    0           0          0     0      1            0   \n",
      "Doc 4           0    0    0           0          1     0      0            0   \n",
      "Doc 5           0    1    1           1          0     0      0            0   \n",
      "Doc 6           1    1    0           0          0     1      0            0   \n",
      "\n",
      "       fields  helps  ...  machine  natural  powerful  processing  related  \\\n",
      "Doc 1       0      0  ...        1        0         0           0        0   \n",
      "Doc 2       0      0  ...        1        0         1           0        0   \n",
      "Doc 3       0      0  ...        0        1         0           1        0   \n",
      "Doc 4       0      1  ...        0        1         0           1        0   \n",
      "Doc 5       1      0  ...        1        0         0           0        1   \n",
      "Doc 6       0      0  ...        0        0         0           0        0   \n",
      "\n",
      "       studying  text  understand  with  working  \n",
      "Doc 1         0     0           0     0        0  \n",
      "Doc 2         0     0           0     0        0  \n",
      "Doc 3         1     0           0     0        0  \n",
      "Doc 4         0     1           1     0        0  \n",
      "Doc 5         0     0           0     0        0  \n",
      "Doc 6         0     1           0     1        1  \n",
      "\n",
      "[6 rows x 25 columns]\n"
     ]
    }
   ],
   "source": [
    "# Method 2: Using Scikit-learn CountVectorizer\n",
    "print(\"=\" * 60)\n",
    "print(\"Using Scikit-learn CountVectorizer\")\n",
    "print(\"=\" * 60)\n",
    "\n",
    "# Create CountVectorizer instance\n",
    "vectorizer = CountVectorizer()\n",
    "\n",
    "# Fit and transform the documents\n",
    "bow_matrix = vectorizer.fit_transform(documents)\n",
    "\n",
    "# Get feature names (vocabulary)\n",
    "feature_names = vectorizer.get_feature_names_out()\n",
    "\n",
    "print(f\"Vocabulary ({len(feature_names)} unique words):\")\n",
    "print(feature_names)\n",
    "print()\n",
    "\n",
    "# Convert to dense matrix for better visualization\n",
    "bow_dense = bow_matrix.toarray()\n",
    "\n",
    "# Create DataFrame\n",
    "sklearn_bow_df = pd.DataFrame(bow_dense, columns=feature_names, index=[f\"Doc {i+1}\" for i in range(len(documents))])\n",
    "print(\"Scikit-learn Bag of Words Matrix:\")\n",
    "print(sklearn_bow_df)\n"
   ]
  },
  {
   "cell_type": "code",
   "execution_count": 23,
   "id": "1f86ed1b",
   "metadata": {},
   "outputs": [
    {
     "name": "stdout",
     "output_type": "stream",
     "text": [
      "============================================================\n",
      "Advanced CountVectorizer Parameters\n",
      "============================================================\n",
      "Advanced Vocabulary (20 features):\n",
      "['artificial' 'artificial intelligence' 'computers understand' 'data'\n",
      " 'data algorithms' 'fields' 'helps' 'helps computers' 'intelligence'\n",
      " 'intelligence machine' 'language' 'language processing' 'learning' 'love'\n",
      " 'machine' 'machine learning' 'natural' 'natural language' 'processing'\n",
      " 'text']\n",
      "\n",
      "Advanced Bag of Words Matrix (with n-grams and stop words removed):\n",
      "       artificial  artificial intelligence  computers understand  data  \\\n",
      "Doc 1           1                        1                     0     0   \n",
      "Doc 2           0                        0                     0     0   \n",
      "Doc 3           0                        0                     0     0   \n",
      "Doc 4           0                        0                     1     0   \n",
      "Doc 5           1                        1                     0     0   \n",
      "Doc 6           0                        0                     0     1   \n",
      "\n",
      "       data algorithms  fields  helps  helps computers  intelligence  \\\n",
      "Doc 1                0       0      0                0             1   \n",
      "Doc 2                0       0      0                0             0   \n",
      "Doc 3                0       0      0                0             0   \n",
      "Doc 4                0       0      1                1             0   \n",
      "Doc 5                0       1      0                0             1   \n",
      "Doc 6                1       0      0                0             0   \n",
      "\n",
      "       intelligence machine  language  language processing  learning  love  \\\n",
      "Doc 1                     0         0                    0         1     1   \n",
      "Doc 2                     0         0                    0         1     0   \n",
      "Doc 3                     0         1                    1         0     0   \n",
      "Doc 4                     0         1                    1         0     0   \n",
      "Doc 5                     1         0                    0         1     0   \n",
      "Doc 6                     0         0                    0         0     1   \n",
      "\n",
      "       machine  machine learning  natural  natural language  processing  text  \n",
      "Doc 1        1                 1        0                 0           0     0  \n",
      "Doc 2        1                 1        0                 0           0     0  \n",
      "Doc 3        0                 0        1                 1           1     0  \n",
      "Doc 4        0                 0        1                 1           1     1  \n",
      "Doc 5        1                 1        0                 0           0     0  \n",
      "Doc 6        0                 0        0                 0           0     1  \n"
     ]
    }
   ],
   "source": [
    "# Advanced CountVectorizer with different parameters\n",
    "print(\"=\" * 60)\n",
    "print(\"Advanced CountVectorizer Parameters\")\n",
    "print(\"=\" * 60)\n",
    "\n",
    "# CountVectorizer with custom parameters\n",
    "advanced_vectorizer = CountVectorizer(\n",
    "    lowercase=True,           # Convert to lowercase\n",
    "    stop_words='english',     # Remove English stop words\n",
    "    ngram_range=(1, 2),       # Use unigrams and bigrams\n",
    "    max_features=20,          # Limit to top 20 features\n",
    "    min_df=1,                 # Minimum document frequency\n",
    "    max_df=1.0                # Maximum document frequency\n",
    ")\n",
    "\n",
    "# Fit and transform\n",
    "advanced_bow = advanced_vectorizer.fit_transform(documents)\n",
    "advanced_features = advanced_vectorizer.get_feature_names_out()\n",
    "\n",
    "print(f\"Advanced Vocabulary ({len(advanced_features)} features):\")\n",
    "print(advanced_features)\n",
    "print()\n",
    "\n",
    "# Create DataFrame\n",
    "advanced_df = pd.DataFrame(\n",
    "    advanced_bow.toarray(), \n",
    "    columns=advanced_features, \n",
    "    index=[f\"Doc {i+1}\" for i in range(len(documents))]\n",
    ")\n",
    "print(\"Advanced Bag of Words Matrix (with n-grams and stop words removed):\")\n",
    "print(advanced_df)\n"
   ]
  },
  {
   "cell_type": "code",
   "execution_count": 24,
   "id": "e18c46db",
   "metadata": {},
   "outputs": [
    {
     "name": "stdout",
     "output_type": "stream",
     "text": [
      "============================================================\n",
      "TF-IDF Implementation\n",
      "============================================================\n",
      "TF-IDF Vocabulary (15 features):\n",
      "['algorithms' 'artificial' 'computers' 'data' 'fascinating' 'fields'\n",
      " 'helps' 'intelligence' 'language' 'learning' 'love' 'machine' 'natural'\n",
      " 'processing' 'text']\n",
      "\n",
      "TF-IDF Matrix:\n",
      "       algorithms  artificial  computers   data  fascinating  fields  helps  \\\n",
      "Doc 1       0.000       0.475      0.000  0.000        0.000    0.00  0.000   \n",
      "Doc 2       0.000       0.000      0.000  0.000        0.715    0.00  0.000   \n",
      "Doc 3       0.000       0.000      0.000  0.000        0.000    0.00  0.000   \n",
      "Doc 4       0.000       0.000      0.462  0.000        0.000    0.00  0.462   \n",
      "Doc 5       0.000       0.451      0.000  0.000        0.000    0.55  0.000   \n",
      "Doc 6       0.547       0.000      0.000  0.547        0.000    0.00  0.000   \n",
      "\n",
      "       intelligence  language  learning   love  machine  natural  processing  \\\n",
      "Doc 1         0.475     0.000     0.401  0.475    0.401    0.000       0.000   \n",
      "Doc 2         0.000     0.000     0.495  0.000    0.495    0.000       0.000   \n",
      "Doc 3         0.000     0.577     0.000  0.000    0.000    0.577       0.577   \n",
      "Doc 4         0.000     0.379     0.000  0.000    0.000    0.379       0.379   \n",
      "Doc 5         0.451     0.000     0.381  0.000    0.381    0.000       0.000   \n",
      "Doc 6         0.000     0.000     0.000  0.448    0.000    0.000       0.000   \n",
      "\n",
      "        text  \n",
      "Doc 1  0.000  \n",
      "Doc 2  0.000  \n",
      "Doc 3  0.000  \n",
      "Doc 4  0.379  \n",
      "Doc 5  0.000  \n",
      "Doc 6  0.448  \n"
     ]
    }
   ],
   "source": [
    "# TF-IDF (Term Frequency-Inverse Document Frequency)\n",
    "print(\"=\" * 60)\n",
    "print(\"TF-IDF Implementation\")\n",
    "print(\"=\" * 60)\n",
    "\n",
    "# Create TF-IDF vectorizer\n",
    "tfidf_vectorizer = TfidfVectorizer(\n",
    "    lowercase=True,\n",
    "    stop_words='english',\n",
    "    ngram_range=(1, 1),\n",
    "    max_features=15\n",
    ")\n",
    "\n",
    "# Fit and transform\n",
    "tfidf_matrix = tfidf_vectorizer.fit_transform(documents)\n",
    "tfidf_features = tfidf_vectorizer.get_feature_names_out()\n",
    "\n",
    "print(f\"TF-IDF Vocabulary ({len(tfidf_features)} features):\")\n",
    "print(tfidf_features)\n",
    "print()\n",
    "\n",
    "# Create DataFrame\n",
    "tfidf_df = pd.DataFrame(\n",
    "    tfidf_matrix.toarray(), \n",
    "    columns=tfidf_features, \n",
    "    index=[f\"Doc {i+1}\" for i in range(len(documents))]\n",
    ")\n",
    "print(\"TF-IDF Matrix:\")\n",
    "print(tfidf_df.round(3))  # Round to 3 decimal places for better readability\n"
   ]
  },
  {
   "cell_type": "code",
   "execution_count": 9,
   "id": "36f144b7",
   "metadata": {},
   "outputs": [
    {
     "name": "stdout",
     "output_type": "stream",
     "text": [
      "Total sentences: 17\n",
      "\n",
      "==================================================\n",
      "Sentence 1: Hello everyone.\n",
      "------------------------------\n",
      "Sentence 2: let's learn NLP!\n",
      "------------------------------\n",
      "Sentence 3: let's start with the basics.\n",
      "------------------------------\n",
      "Sentence 4: I am running, jumping, and swimming in the beautiful garden.\n",
      "------------------------------\n",
      "Sentence 5: The cats are playing, dogs are barking, and birds are flying high above.\n",
      "------------------------------\n",
      "Sentence 6: I love reading books, writing stories, and learning new things every day.\n",
      "------------------------------\n",
      "Sentence 7: The students are studying, teachers are teaching, and parents are working hard.\n",
      "------------------------------\n",
      "Sentence 8: Beautiful flowers are blooming, trees are growing, and rivers are flowing peacefully.\n",
      "------------------------------\n",
      "Sentence 9: I enjoy walking, running, cycling, and hiking in the mountains.\n",
      "------------------------------\n",
      "Sentence 10: The children are playing, laughing, and having fun at the playground.\n",
      "------------------------------\n",
      "Sentence 11: I have been working, studying, and improving my skills continuously.\n",
      "------------------------------\n",
      "Sentence 12: The weather is changing, seasons are shifting, and nature is evolving.\n",
      "------------------------------\n",
      "Sentence 13: I love cooking, baking, and preparing delicious meals for my family.\n",
      "------------------------------\n",
      "Sentence 14: The artists are painting, musicians are playing, and dancers are performing gracefully.\n",
      "------------------------------\n",
      "Sentence 15: I enjoy traveling, exploring, and discovering new places around the world.\n",
      "------------------------------\n",
      "Sentence 16: The scientists are researching, experimenting, and discovering amazing things.\n",
      "------------------------------\n",
      "Sentence 17: I love gardening, planting, and watching my plants growing beautifully.\n",
      "------------------------------\n"
     ]
    }
   ],
   "source": [
    "# Tokenize the text - FIXED VERSION\n",
    "sentences = tokenizer.tokenize(corpus)\n",
    "\n",
    "# Display sentences in a more readable format\n",
    "print(f\"Total sentences: {len(sentences)}\")\n",
    "print(\"\\n\" + \"=\"*50)\n",
    "for i, sentence in enumerate(sentences, 1):\n",
    "    print(f\"Sentence {i}: {sentence}\")\n",
    "    print(\"-\" * 30)\n"
   ]
  },
  {
   "cell_type": "code",
   "execution_count": 25,
   "id": "b8a0df36",
   "metadata": {},
   "outputs": [
    {
     "name": "stdout",
     "output_type": "stream",
     "text": [
      "============================================================\n",
      "Bag of Words Visualization\n",
      "============================================================\n"
     ]
    },
    {
     "data": {
      "image/png": "[encoded data removed]",
      "text/plain": [
       "<Figure size 1200x800 with 2 Axes>"
      ]
     },
     "metadata": {},
     "output_type": "display_data"
    },
    {
     "name": "stdout",
     "output_type": "stream",
     "text": [
      "\n",
      "Word Frequency Analysis:\n",
      "and             4\n",
      "learning        3\n",
      "machine         3\n",
      "artificial      2\n",
      "text            2\n",
      "language        2\n",
      "intelligence    2\n",
      "natural         2\n",
      "love            2\n",
      "processing      2\n",
      "dtype: int64\n"
     ]
    }
   ],
   "source": [
    "# Visualization of Bag of Words\n",
    "print(\"=\" * 60)\n",
    "print(\"Bag of Words Visualization\")\n",
    "print(\"=\" * 60)\n",
    "\n",
    "# Create a heatmap for the basic BoW matrix\n",
    "plt.figure(figsize=(12, 8))\n",
    "sns.heatmap(sklearn_bow_df, annot=True, cmap='Blues', fmt='d', cbar_kws={'label': 'Word Count'})\n",
    "plt.title('Bag of Words Matrix Heatmap')\n",
    "plt.xlabel('Words (Features)')\n",
    "plt.ylabel('Documents')\n",
    "plt.xticks(rotation=45, ha='right')\n",
    "plt.tight_layout()\n",
    "plt.show()\n",
    "\n",
    "# Word frequency analysis\n",
    "print(\"\\nWord Frequency Analysis:\")\n",
    "word_frequencies = sklearn_bow_df.sum().sort_values(ascending=False)\n",
    "print(word_frequencies.head(10))\n"
   ]
  },
  {
   "cell_type": "code",
   "execution_count": 33,
   "id": "906d49b1",
   "metadata": {},
   "outputs": [
    {
     "name": "stdout",
     "output_type": "stream",
     "text": [
      "============================================================\n",
      "Practical Example: Text Classification\n",
      "============================================================\n",
      "Sample texts and labels:\n",
      "1. [POSITIVE] I love this movie, it's amazing!\n",
      "2. [NEGATIVE] This film is terrible and boring\n",
      "3. [POSITIVE] Great acting and wonderful story\n",
      "4. [NEGATIVE] Worst movie I've ever seen\n",
      "5. [POSITIVE] Fantastic plot with excellent characters\n",
      "6. [NEGATIVE] Boring and waste of time\n",
      "7. [POSITIVE] Outstanding performance by actors\n",
      "8. [NEGATIVE] Disappointing and poorly made\n",
      "9. [POSITIVE] Brilliant cinematography and direction\n",
      "10. [NEGATIVE] script is not bad \n",
      "\n",
      "Feature matrix shape: (10, 50)\n",
      "Features: ['acting' 'acting wonderful' 'actors' 'amazing' 'bad' 'boring'\n",
      " 'boring waste' 'brilliant' 'brilliant cinematography' 'characters'\n",
      " 'cinematography' 'cinematography direction' 'direction' 'disappointing'\n",
      " 'disappointing poorly' 'excellent' 'excellent characters' 'fantastic'\n",
      " 'fantastic plot' 'film' 'film terrible' 'great' 'great acting' 'love'\n",
      " 'love movie' 'movie' 'movie amazing' 'movie ve' 'outstanding'\n",
      " 'outstanding performance' 'performance' 'performance actors' 'plot'\n",
      " 'plot excellent' 'poorly' 'script' 'script bad' 'seen' 'story' 'terrible'\n",
      " 'terrible boring' 'time' 've' 've seen' 'waste' 'waste time' 'wonderful'\n",
      " 'wonderful story' 'worst' 'worst movie']\n",
      "\n",
      "Test predictions: ['negative' 'negative' 'negative']\n",
      "Actual labels: ['positive', 'negative', 'negative']\n",
      "\n",
      "Classification Report:\n",
      "              precision    recall  f1-score   support\n",
      "\n",
      "    negative       0.67      1.00      0.80         2\n",
      "    positive       0.00      0.00      0.00         1\n",
      "\n",
      "    accuracy                           0.67         3\n",
      "   macro avg       0.33      0.50      0.40         3\n",
      "weighted avg       0.44      0.67      0.53         3\n",
      "\n"
     ]
    },
    {
     "name": "stderr",
     "output_type": "stream",
     "text": [
      "e:\\Jspiders\\NLP\\.venv\\lib\\site-packages\\sklearn\\metrics\\_classification.py:1731: UndefinedMetricWarning: Precision is ill-defined and being set to 0.0 in labels with no predicted samples. Use `zero_division` parameter to control this behavior.\n",
      "  _warn_prf(average, modifier, f\"{metric.capitalize()} is\", result.shape[0])\n",
      "e:\\Jspiders\\NLP\\.venv\\lib\\site-packages\\sklearn\\metrics\\_classification.py:1731: UndefinedMetricWarning: Precision is ill-defined and being set to 0.0 in labels with no predicted samples. Use `zero_division` parameter to control this behavior.\n",
      "  _warn_prf(average, modifier, f\"{metric.capitalize()} is\", result.shape[0])\n",
      "e:\\Jspiders\\NLP\\.venv\\lib\\site-packages\\sklearn\\metrics\\_classification.py:1731: UndefinedMetricWarning: Precision is ill-defined and being set to 0.0 in labels with no predicted samples. Use `zero_division` parameter to control this behavior.\n",
      "  _warn_prf(average, modifier, f\"{metric.capitalize()} is\", result.shape[0])\n"
     ]
    }
   ],
   "source": [
    "# Practical Example: Text Classification with Bag of Words\n",
    "print(\"=\" * 60)\n",
    "print(\"Practical Example: Text Classification\")\n",
    "print(\"=\" * 60)\n",
    "\n",
    "from sklearn.model_selection import train_test_split\n",
    "from sklearn.naive_bayes import MultinomialNB\n",
    "from sklearn.metrics import classification_report, confusion_matrix\n",
    "\n",
    "# Create a simple dataset for classification\n",
    "texts = [\n",
    "    \"I love this movie, it's amazing!\",\n",
    "    \"This film is terrible and boring\",\n",
    "    \"Great acting and wonderful story\",\n",
    "    \"Worst movie I've ever seen\",\n",
    "    \"Fantastic plot with excellent characters\",\n",
    "    \"Boring and waste of time\",\n",
    "    \"Outstanding performance by actors\",\n",
    "    \"Disappointing and poorly made\",\n",
    "    \"Brilliant cinematography and direction\",\n",
    "    \"script is not bad \",\n",
    "]\n",
    "\n",
    "labels = ['positive', 'negative', 'positive', 'negative', 'positive', \n",
    "          'negative', 'positive', 'negative', 'positive', 'negative']\n",
    "\n",
    "print(\"Sample texts and labels:\")\n",
    "for i, (text, label) in enumerate(zip(texts, labels)):\n",
    "    print(f\"{i+1}. [{label.upper()}] {text}\")\n",
    "\n",
    "# Create Bag of Words representation\n",
    "classifier_vectorizer = CountVectorizer(\n",
    "    lowercase=True,\n",
    "    stop_words='english',\n",
    "    ngram_range=(1, 2)\n",
    ")\n",
    "\n",
    "X = classifier_vectorizer.fit_transform(texts)\n",
    "y = labels\n",
    "\n",
    "print(f\"\\nFeature matrix shape: {X.shape}\")\n",
    "print(f\"Features: {classifier_vectorizer.get_feature_names_out()}\")\n",
    "\n",
    "# Train a simple classifier\n",
    "X_train, X_test, y_train, y_test = train_test_split(X, y, test_size=0.3, random_state=42)\n",
    "\n",
    "# Train Naive Bayes classifier\n",
    "nb_classifier = MultinomialNB()\n",
    "nb_classifier.fit(X_train, y_train)\n",
    "\n",
    "# Make predictions\n",
    "y_pred = nb_classifier.predict(X_test)\n",
    "\n",
    "print(f\"\\nTest predictions: {y_pred}\")\n",
    "print(f\"Actual labels: {y_test}\")\n",
    "\n",
    "# Classification report\n",
    "print(\"\\nClassification Report:\")\n",
    "print(classification_report(y_test, y_pred))\n"
   ]
  },
  {
   "cell_type": "markdown",
   "id": "1f63bb76",
   "metadata": {},
   "source": [
    "## Key Concepts and Advantages/Disadvantages\n",
    "\n",
    "### Bag of Words Advantages:\n",
    "1. **Simple and Intuitive**: Easy to understand and implement\n",
    "2. **Language Independent**: Works with any language\n",
    "3. **Fast Processing**: Efficient for large datasets\n",
    "4. **Good Baseline**: Often used as a starting point for text analysis\n",
    "\n",
    "### Bag of Words Disadvantages:\n",
    "1. **Loss of Word Order**: Ignores the sequence of words\n",
    "2. **Sparse Matrix**: Creates high-dimensional sparse vectors\n",
    "3. **No Semantic Understanding**: Doesn't capture word meanings or relationships\n",
    "4. **Vocabulary Size**: Can become very large with diverse text\n",
    "\n",
    "### When to Use Bag of Words:\n",
    "- Text classification tasks\n",
    "- Document similarity analysis\n",
    "- As a baseline for more advanced methods\n",
    "- When word order is not critical\n",
    "- For quick prototyping\n",
    "\n",
    "### Advanced Alternatives:\n",
    "- **TF-IDF**: Better than simple BoW for most tasks\n",
    "- **Word Embeddings**: Word2Vec, GloVe, FastText\n",
    "- **Contextual Embeddings**: BERT, GPT, ELMo\n",
    "- **N-grams**: Capture some word order information\n"
   ]
  },
  {
   "cell_type": "code",
   "execution_count": null,
   "id": "5ac5b2a2",
   "metadata": {},
   "outputs": [],
   "source": []
  }
 ],
 "metadata": {
  "kernelspec": {
   "display_name": ".venv",
   "language": "python",
   "name": "python3"
  },
  "language_info": {
   "codemirror_mode": {
    "name": "ipython",
    "version": 3
   },
   "file_extension": ".py",
   "mimetype": "text/x-python",
   "name": "python",
   "nbconvert_exporter": "python",
   "pygments_lexer": "ipython3",
   "version": "3.10.11"
  }
 },
 "nbformat": 4,
 "nbformat_minor": 5
}
