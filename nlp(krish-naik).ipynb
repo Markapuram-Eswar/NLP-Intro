{
 "cells": [
  {
   "cell_type": "code",
   "execution_count": null,
   "id": "67074537",
   "metadata": {},
   "outputs": [],
   "source": [
    "corpus = \"\"\"Hello everyone. let's learn NLP! let's start with the basics\"\"\""
   ]
  }
 ],
 "metadata": {
  "language_info": {
   "name": "python"
  }
 },
 "nbformat": 4,
 "nbformat_minor": 5
}
